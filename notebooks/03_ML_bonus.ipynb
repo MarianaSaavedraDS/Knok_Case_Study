{
 "cells": [
  {
   "cell_type": "markdown",
   "id": "8729a62c",
   "metadata": {},
   "source": [
    "# Imports and Load Data"
   ]
  },
  {
   "cell_type": "code",
   "execution_count": 34,
   "id": "dd78affc",
   "metadata": {},
   "outputs": [],
   "source": [
    "import pandas as pd\n",
    "import numpy as np\n",
    "from sklearn.model_selection import train_test_split\n",
    "import seaborn as sns\n",
    "import matplotlib.pyplot as plt\n",
    "from sklearn.pipeline import Pipeline\n",
    "from sklearn.compose import ColumnTransformer\n",
    "from sklearn.preprocessing import OneHotEncoder, StandardScaler\n",
    "from sklearn.impute import SimpleImputer\n",
    "from sklearn.linear_model import LogisticRegression\n",
    "from sklearn.ensemble import RandomForestClassifier\n",
    "from xgboost import XGBClassifier\n",
    "from sklearn.model_selection import StratifiedKFold, cross_val_score\n",
    "from scipy.stats import chi2_contingency\n",
    "from sklearn.model_selection import train_test_split\n",
    "from imblearn.under_sampling import RandomUnderSampler\n",
    "\n",
    "df = pd.read_pickle(\"../data/df_clean.pkl\")"
   ]
  },
  {
   "cell_type": "markdown",
   "id": "67858bc4",
   "metadata": {},
   "source": [
    "# Data cleaning & feature engineering"
   ]
  },
  {
   "cell_type": "code",
   "execution_count": 35,
   "id": "934403cd",
   "metadata": {},
   "outputs": [],
   "source": [
    "# basic checks\n",
    "df = df.drop_duplicates(subset=['appointment_id'])"
   ]
  },
  {
   "cell_type": "markdown",
   "id": "93721468",
   "metadata": {},
   "source": [
    "In EDA we identified outliers and removed them, for this exercise we need to clean the data on a deeper level in order to pass it to the ML models"
   ]
  },
  {
   "cell_type": "markdown",
   "id": "c1a5b8b6",
   "metadata": {},
   "source": [
    "## Drop unwanted features"
   ]
  },
  {
   "cell_type": "markdown",
   "id": "a1f1a67f",
   "metadata": {},
   "source": [
    "We start by removing unwanted feature either becuase they are redundant or because they are not informative nor discriminative like tenant and status (low variance variables)"
   ]
  },
  {
   "cell_type": "code",
   "execution_count": 36,
   "id": "10a00750",
   "metadata": {},
   "outputs": [],
   "source": [
    "drop_cols = [\n",
    "    'appointment_id','tenant','status',\n",
    "    'recurrence_24hours','recurrence_48hours','recurrence_7days',\n",
    "    'updated_at','end_time','started_at','finished_at','created_at','process_date'\n",
    "    'recommendation_rating','appointment_classification','appointment_helpful','in_person_appointment_evaluation',\n",
    "    'icd_code2','icd_code3'\n",
    "]\n",
    "\n",
    "# ---- Drop irrelevant columns ----\n",
    "df = df.drop(columns=drop_cols, errors='ignore').copy()"
   ]
  },
  {
   "cell_type": "markdown",
   "id": "8cf4ab98",
   "metadata": {},
   "source": [
    "Now lets encode the target variable"
   ]
  },
  {
   "cell_type": "code",
   "execution_count": 37,
   "id": "bab47bfb",
   "metadata": {},
   "outputs": [],
   "source": [
    "# ---- Target variable first ----\n",
    "map_dict = {\n",
    "    'yes': 1, 'y': 1, 'true': 1, '1': 1, 'sim': 1,\n",
    "    'no': 0, 'n': 0, 'false': 0, '0': 0, 'nao': 0, 'não': 0\n",
    "}\n",
    "s_norm = df['recurrence_72hours'].astype(str).str.strip().str.lower()\n",
    "s_norm = s_norm.replace({'nan': pd.NA, 'none': pd.NA, '': pd.NA})\n",
    "mapped = s_norm.map(map_dict)\n",
    "df['y'] = mapped.astype('Int64')"
   ]
  },
  {
   "cell_type": "markdown",
   "id": "cbc865d1",
   "metadata": {},
   "source": [
    "## Feature engineering"
   ]
  },
  {
   "cell_type": "markdown",
   "id": "e7282c50",
   "metadata": {},
   "source": [
    "We are now left with several features that need further processing like the 'patient_age_at_appointment' which can be binned in order to reduce dimensionality and handle missing value with need of impute"
   ]
  },
  {
   "cell_type": "code",
   "execution_count": 38,
   "id": "b9e398f9",
   "metadata": {},
   "outputs": [],
   "source": [
    "# ----  Age bin ----\n",
    "def age_bin(a):\n",
    "    if pd.isna(a): return 'unknown'\n",
    "    a = int(a)\n",
    "    if a < 18: return '<18'\n",
    "    if a < 30: return '18-29'\n",
    "    if a < 45: return '30-44'\n",
    "    if a < 65: return '45-64'\n",
    "    return '65+'\n",
    "\n",
    "df['age_group'] = df['patient_age_at_appointment'].apply(age_bin)\n",
    "\n",
    "# Drop the raw age column (we'll use only age_group)\n",
    "df = df.drop(columns=['patient_age_at_appointment'])"
   ]
  },
  {
   "cell_type": "markdown",
   "id": "5a155734",
   "metadata": {},
   "source": [
    "Week cycles are important information hat can be extracted from the 'start_time' date"
   ]
  },
  {
   "cell_type": "code",
   "execution_count": 39,
   "id": "d3b63d62",
   "metadata": {},
   "outputs": [],
   "source": [
    "# ---- Basic temporal features ----\n",
    "df['start_weekday'] = df['start_time'].dt.weekday\n",
    "df['is_weekend'] = df['start_weekday'].isin([5,6]).astype(int)\n",
    "\n",
    "df = df.drop(columns=['start_time'], errors='ignore')\n",
    "\n",
    "# Drop start_weekday since we decided to test only with is_weekend\n",
    "df = df.drop(columns=['start_weekday'])"
   ]
  },
  {
   "cell_type": "markdown",
   "id": "fe297d82",
   "metadata": {},
   "source": [
    "We took out 'icd_code2'and 'icd_code3' because of missing values but 'icd_code1' can have valuable information. Because there are several unique values for this variable we must find a way to not introduce to many dimensions. One solution is to keep the most frequent codes and bin the rest"
   ]
  },
  {
   "cell_type": "code",
   "execution_count": 40,
   "id": "35fce015",
   "metadata": {},
   "outputs": [],
   "source": [
    "# ---- ICD encoding (keep only icd_code1) ----\n",
    "df['icd_code1'] = df['icd_code1'].fillna('none')\n",
    "\n",
    "# Fix weird placeholder entries\n",
    "df['icd_code1'] = df['icd_code1'].replace({'icd_': 'other'})\n",
    "\n",
    "# Identify top 10 ICD codes (excluding 'none' and 'other')\n",
    "top_icd = df['icd_code1'][~df['icd_code1'].isin(['none', 'other'])].value_counts().nlargest(10).index\n",
    "\n",
    "# One-hot encode top 10\n",
    "for icd in top_icd:\n",
    "    df[f'icd_{icd}'] = (df['icd_code1'] == icd).astype(int)\n",
    "\n",
    "# Group the rest into \"icd_other\" (includes 'other' placeholder)\n",
    "df['icd_other'] = (~df['icd_code1'].isin(top_icd) & (df['icd_code1'] != 'none')).astype(int)"
   ]
  },
  {
   "cell_type": "code",
   "execution_count": 41,
   "id": "b7c822ba",
   "metadata": {},
   "outputs": [
    {
     "name": "stdout",
     "output_type": "stream",
     "text": [
      "ICD code counts (number of patients with each code):\n",
      "icd_other     75242\n",
      "icd_Z76.0     20884\n",
      "icd_          17416\n",
      "icd_J03.90     7082\n",
      "icd_J00        6193\n",
      "icd_J06.9      4503\n",
      "icd_R05        3631\n",
      "icd_K52.9      3533\n",
      "icd_N30.00     2814\n",
      "icd_U07.1      2615\n",
      "icd_J01.90     2477\n",
      "dtype: int64\n"
     ]
    }
   ],
   "source": [
    "# Count top 10 ICD codes + other\n",
    "icd_cols = [f'icd_{icd}' for icd in top_icd] + ['icd_other']\n",
    "icd_counts = df[icd_cols].sum().sort_values(ascending=False)\n",
    "print(\"ICD code counts (number of patients with each code):\")\n",
    "print(icd_counts)\n"
   ]
  },
  {
   "cell_type": "markdown",
   "id": "2c36d242",
   "metadata": {},
   "source": [
    "Cleaning up other categorical variables"
   ]
  },
  {
   "cell_type": "code",
   "execution_count": 42,
   "id": "0ed35ef5",
   "metadata": {},
   "outputs": [],
   "source": [
    "# ---- 6) Categorical reductions ----\n",
    "\n",
    "# Clean patient sex (map random / missing to 'missing')\n",
    "df['patient_sex'] = (\n",
    "    df['patient_sex']\n",
    "    .replace({'': 'missing', ' ': 'missing'})   # blank/empty to missing\n",
    "    .fillna('missing')\n",
    "    .astype(str)\n",
    ")\n",
    "\n",
    "\n",
    "cat_cols = ['service_type','patient_sex','age_group']\n",
    "for c in cat_cols:\n",
    "    df[c] = df[c].fillna('missing').astype(str)\n"
   ]
  },
  {
   "cell_type": "markdown",
   "id": "0ac57463",
   "metadata": {},
   "source": [
    "I choose not to delete collumns with missing values in order to preserve the integrity of the data. We would need to make sure that the imbalanced class of the target is not to affected by ther deletion. Also imputing the values could be a solution for numerical vareiables."
   ]
  },
  {
   "cell_type": "markdown",
   "id": "c479bdfc",
   "metadata": {},
   "source": [
    "## Feature Selection"
   ]
  },
  {
   "cell_type": "markdown",
   "id": "ff99edf9",
   "metadata": {},
   "source": [
    "Now we can take a deeper look at the relashionship between features and target variable."
   ]
  },
  {
   "cell_type": "code",
   "execution_count": 43,
   "id": "90b5995d",
   "metadata": {},
   "outputs": [
    {
     "name": "stdout",
     "output_type": "stream",
     "text": [
      "Correlation with target (y):\n",
      "delay_minutes       0.029821\n",
      "duration_minutes   -0.021235\n",
      "realization_sla    -0.027236\n",
      "dtype: float64\n"
     ]
    },
    {
     "data": {
      "image/png": "[encoded data removed]",
      "text/plain": [
       "<Figure size 600x500 with 2 Axes>"
      ]
     },
     "metadata": {},
     "output_type": "display_data"
    }
   ],
   "source": [
    "# ---- Continuous features to check ----\n",
    "# (exclude raw age, keep age_group categorical instead)\n",
    "num_cols = [\n",
    "    'delay_minutes',\n",
    "    'duration_minutes',\n",
    "    'realization_sla'\n",
    "]\n",
    "\n",
    "# Correlation with target\n",
    "corrs = df[num_cols].corrwith(df['y'])\n",
    "print(\"Correlation with target (y):\")\n",
    "print(corrs.sort_values(ascending=False))\n",
    "\n",
    "# Redundancy among continuous variables\n",
    "plt.figure(figsize=(6,5))\n",
    "sns.heatmap(df[num_cols].corr(), cmap='coolwarm', center=0, annot=True, fmt=\".2f\")\n",
    "plt.title(\"Correlation Matrix (continuous features)\")\n",
    "plt.show()\n",
    "\n"
   ]
  },
  {
   "cell_type": "markdown",
   "id": "4f6d0cec",
   "metadata": {},
   "source": [
    "There seems to be no great redundancy and also not to much correlation with the target variable, for that reason these features are going to be selected for model training"
   ]
  },
  {
   "cell_type": "code",
   "execution_count": 44,
   "id": "d40d7b91",
   "metadata": {},
   "outputs": [
    {
     "name": "stdout",
     "output_type": "stream",
     "text": [
      "\n",
      "Chi-square test for service_type\n",
      "y                 0      1\n",
      "service_type              \n",
      "phone         73605  10578\n",
      "remote        85705   7838\n",
      "Chi2 = 835.61, dof = 1, p-value = 0.0000\n",
      "Mean target rate by category:\n",
      "service_type\n",
      "phone     0.125655\n",
      "remote     0.08379\n",
      "Name: y, dtype: Float64\n",
      "\n",
      "Chi-square test for patient_sex\n",
      "y                0      1\n",
      "patient_sex              \n",
      "F            95720  11119\n",
      "M            54292   6723\n",
      "missing       9298    574\n",
      "Chi2 = 248.36, dof = 2, p-value = 0.0000\n",
      "Mean target rate by category:\n",
      "patient_sex\n",
      "F          0.104072\n",
      "M          0.110186\n",
      "missing    0.058144\n",
      "Name: y, dtype: Float64\n",
      "\n",
      "Chi-square test for age_group\n",
      "y              0     1\n",
      "age_group             \n",
      "18-29      31169  3693\n",
      "30-44      39985  3854\n",
      "45-64      36432  3553\n",
      "65+        25518  3265\n",
      "<18        25257  4000\n",
      "unknown      949    51\n",
      "Chi2 = 617.02, dof = 5, p-value = 0.0000\n",
      "Mean target rate by category:\n",
      "age_group\n",
      "18-29      0.105932\n",
      "30-44      0.087913\n",
      "45-64      0.088858\n",
      "65+        0.113435\n",
      "<18        0.136719\n",
      "unknown       0.051\n",
      "Name: y, dtype: Float64\n",
      "\n",
      "Chi-square test for is_weekend\n",
      "y                0      1\n",
      "is_weekend               \n",
      "0           130044  14773\n",
      "1            29266   3643\n",
      "Chi2 = 21.70, dof = 1, p-value = 0.0000\n",
      "Mean target rate by category:\n",
      "is_weekend\n",
      "0    0.102012\n",
      "1    0.110699\n",
      "Name: y, dtype: Float64\n"
     ]
    }
   ],
   "source": [
    "\n",
    "\n",
    "cat_cols = ['service_type','patient_sex','age_group','is_weekend']\n",
    "\n",
    "for col in cat_cols:\n",
    "    ct = pd.crosstab(df[col], df['y'])\n",
    "    chi2_stat, p, dof, expected = chi2_contingency(ct)\n",
    "    print(f\"\\nChi-square test for {col}\")\n",
    "    print(ct)\n",
    "    print(f\"Chi2 = {chi2_stat:.2f}, dof = {dof}, p-value = {p:.4f}\")\n",
    "    print(\"Mean target rate by category:\")\n",
    "    print(df.groupby(col)['y'].mean())\n",
    "\n",
    "\n"
   ]
  },
  {
   "cell_type": "markdown",
   "id": "4fcb4c1d",
   "metadata": {},
   "source": [
    "p value is is very low (<0.05) which makes these good candidates to keep for model training"
   ]
  },
  {
   "cell_type": "code",
   "execution_count": 45,
   "id": "6450caa9",
   "metadata": {},
   "outputs": [
    {
     "name": "stdout",
     "output_type": "stream",
     "text": [
      "\n",
      "Target rate by ICD code:\n",
      "icd_R05       0.150647\n",
      "icd_          0.144178\n",
      "icd_J06.9     0.125028\n",
      "icd_J00       0.117229\n",
      "icd_other     0.097685\n",
      "icd_J03.90    0.093900\n",
      "icd_K52.9     0.082083\n",
      "icd_U07.1     0.075335\n",
      "icd_Z76.0     0.068761\n",
      "icd_J01.90    0.067420\n",
      "icd_N30.00    0.058280\n",
      "dtype: float64\n"
     ]
    }
   ],
   "source": [
    "icd_target_rate = {}\n",
    "for col in icd_cols:\n",
    "    # target rate = recurrence among patients with this ICD\n",
    "    icd_target_rate[col] = df.loc[df[col]==1, 'y'].mean()\n",
    "\n",
    "icd_target_rate = pd.Series(icd_target_rate).sort_values(ascending=False)\n",
    "print(\"\\nTarget rate by ICD code:\")\n",
    "print(icd_target_rate)\n"
   ]
  },
  {
   "cell_type": "markdown",
   "id": "e4dfb7c5",
   "metadata": {},
   "source": [
    "Some diagnoses are clearly higher risk for 72h recurrence"
   ]
  },
  {
   "cell_type": "code",
   "execution_count": 46,
   "id": "90bfd315",
   "metadata": {},
   "outputs": [
    {
     "name": "stdout",
     "output_type": "stream",
     "text": [
      "\n",
      "Chi-square test for ICD codes:\n",
      "icd_Z76.0: Chi2=309.18, p=0.0000\n"
     ]
    },
    {
     "name": "stdout",
     "output_type": "stream",
     "text": [
      "icd_: Chi2=341.45, p=0.0000\n",
      "icd_J03.90: Chi2=7.39, p=0.0065\n",
      "icd_J00: Chi2=12.64, p=0.0004\n",
      "icd_J06.9: Chi2=22.56, p=0.0000\n",
      "icd_R05: Chi2=87.74, p=0.0000\n",
      "icd_K52.9: Chi2=17.77, p=0.0000\n",
      "icd_N30.00: Chi2=62.79, p=0.0000\n",
      "icd_U07.1: Chi2=22.55, p=0.0000\n",
      "icd_J01.90: Chi2=35.05, p=0.0000\n",
      "icd_other: Chi2=49.38, p=0.0000\n"
     ]
    }
   ],
   "source": [
    "\n",
    "\n",
    "print(\"\\nChi-square test for ICD codes:\")\n",
    "for col in icd_cols:\n",
    "    ct = pd.crosstab(df[col], df['y'])\n",
    "    chi2_stat, p, dof, expected = chi2_contingency(ct)\n",
    "    print(f\"{col}: Chi2={chi2_stat:.2f}, p={p:.4f}\")"
   ]
  },
  {
   "cell_type": "markdown",
   "id": "40020ced",
   "metadata": {},
   "source": [
    "## Data Imbalance Handling"
   ]
  },
  {
   "cell_type": "markdown",
   "id": "ce1bb8cd",
   "metadata": {},
   "source": [
    "We are going to do a simple partial undersampling (which is still very extreme). There are other resampling, undersamplind and oversampling techniques that could be tested"
   ]
  },
  {
   "cell_type": "code",
   "execution_count": 47,
   "id": "ce9ccc91",
   "metadata": {},
   "outputs": [
    {
     "name": "stdout",
     "output_type": "stream",
     "text": [
      "Target counts AFTER partial undersampling:\n",
      "y\n",
      "0    29466\n",
      "1    14733\n",
      "Name: count, dtype: Int64\n"
     ]
    }
   ],
   "source": [
    "\n",
    "\n",
    "# 1) Split first (without one-hot encoding)\n",
    "X = df.drop(columns=['y'])\n",
    "y = df['y']\n",
    "\n",
    "mask = y.notna()\n",
    "X = X[mask]\n",
    "y = y[mask]\n",
    "\n",
    "# 2) Train/test split\n",
    "X_train, X_test, y_train, y_test = train_test_split(\n",
    "    X, y, test_size=0.2, stratify=y, random_state=42\n",
    ")\n",
    "\n",
    "# 3) Partial undersampling\n",
    "minority_count = y_train.value_counts()[1]\n",
    "target_majority = 2 * minority_count\n",
    "sampling_strategy = {0: target_majority, 1: minority_count}\n",
    "\n",
    "rus = RandomUnderSampler(sampling_strategy=sampling_strategy, random_state=42)\n",
    "X_train_res, y_train_res = rus.fit_resample(X_train, y_train)\n",
    "\n",
    "print(\"Target counts AFTER partial undersampling:\")\n",
    "print(y_train_res.value_counts())\n"
   ]
  },
  {
   "cell_type": "code",
   "execution_count": 48,
   "id": "3e5d12ce",
   "metadata": {},
   "outputs": [],
   "source": [
    "numeric_features = ['realization_sla', 'duration_minutes', 'delay_minutes', 'is_weekend']\n",
    "# Keep original categorical features\n",
    "cat_features = ['service_type','patient_sex','age_group']\n",
    "\n",
    "# Add only “valid” ICD one-hot columns\n",
    "icd_cols = [c for c in X_train_res.columns if c.startswith('icd_') \n",
    "            and c not in ['icd_code1', 'icd_', 'icd_none']]\n",
    "\n",
    "cat_features += icd_cols\n"
   ]
  },
  {
   "cell_type": "markdown",
   "id": "ff7692ea",
   "metadata": {},
   "source": [
    "# Modelling"
   ]
  },
  {
   "cell_type": "markdown",
   "id": "c145ce68",
   "metadata": {},
   "source": [
    "I choose 3 models that work well with tabular data and have complementary strengths, specially when dealing with unbalanced datasets:\n",
    "\n",
    "Logistic Regression: Baseline & interpretable.\n",
    "Random Forest: Non-linear baseline, robust to overfitting.\n",
    "XGBoost: High-performance, captures complex patterns."
   ]
  },
  {
   "cell_type": "code",
   "execution_count": 49,
   "id": "f222b0d7",
   "metadata": {},
   "outputs": [
    {
     "name": "stderr",
     "output_type": "stream",
     "text": [
      "c:\\Users\\Mariana Saavedra\\Desktop\\Case_Study_Mariana\\venv\\lib\\site-packages\\xgboost\\training.py:183: UserWarning: [13:06:26] WARNING: C:\\actions-runner\\_work\\xgboost\\xgboost\\src\\learner.cc:738: \n",
      "Parameters: { \"use_label_encoder\" } are not used.\n",
      "\n",
      "  bst.update(dtrain, iteration=i, fobj=obj)\n"
     ]
    },
    {
     "name": "stdout",
     "output_type": "stream",
     "text": [
      "logreg on original test set - AP: 0.1552, ROC-AUC: 0.6228\n",
      "rf on original test set - AP: 0.1382, ROC-AUC: 0.5904\n",
      "xgb on original test set - AP: 0.1517, ROC-AUC: 0.6081\n"
     ]
    }
   ],
   "source": [
    "# --- 2) Preprocessing pipelines ---\n",
    "num_pipe = Pipeline([\n",
    "    ('impute', SimpleImputer(strategy='median')),\n",
    "    ('scale', StandardScaler())\n",
    "])\n",
    "\n",
    "cat_pipe = Pipeline([\n",
    "    ('impute', SimpleImputer(strategy='constant', fill_value='missing')),\n",
    "    ('ohe', OneHotEncoder(handle_unknown='ignore'))\n",
    "])\n",
    "\n",
    "preproc = ColumnTransformer([\n",
    "    ('num', num_pipe, numeric_features),\n",
    "    ('cat', cat_pipe, cat_features)\n",
    "])\n",
    "\n",
    "# --- 3) Models ---\n",
    "models = {\n",
    "    'logreg': LogisticRegression(class_weight='balanced', max_iter=2000, n_jobs=-1),\n",
    "    'rf': RandomForestClassifier(\n",
    "        n_estimators=200,  # reduced for speed\n",
    "        class_weight='balanced',\n",
    "        n_jobs=-1,\n",
    "        random_state=42\n",
    "    ),\n",
    "    'xgb': XGBClassifier(\n",
    "        eval_metric='logloss',\n",
    "        scale_pos_weight=(y_train_res==0).sum() / (y_train_res==1).sum(),\n",
    "        n_jobs=-1,\n",
    "        use_label_encoder=False  # remove deprecated param\n",
    "    )\n",
    "}\n",
    "\n",
    "# --- 4) Cross-validation ---\n",
    "cv = StratifiedKFold(n_splits=5, shuffle=True, random_state=42)\n",
    "\n",
    "# --- 5) Fit and evaluate ---\n",
    "from sklearn.metrics import average_precision_score, precision_recall_curve, roc_auc_score\n",
    "\n",
    "# --- 1) Fit pipelines on undersampled train ---\n",
    "fitted_pipelines = {}\n",
    "for name, clf in models.items():\n",
    "    pipe = Pipeline([('pre', preproc), ('clf', clf)])\n",
    "    pipe.fit(X_train_res, y_train_res)\n",
    "    fitted_pipelines[name] = pipe\n",
    "\n",
    "# --- 2) Evaluate on original test set ---\n",
    "for name, pipe in fitted_pipelines.items():\n",
    "    y_pred_prob = pipe.predict_proba(X_test)[:, 1]  # probability for positive class\n",
    "    ap = average_precision_score(y_test, y_pred_prob)\n",
    "    roc = roc_auc_score(y_test, y_pred_prob)\n",
    "    print(f\"{name} on original test set - AP: {ap:.4f}, ROC-AUC: {roc:.4f}\")\n",
    "\n"
   ]
  },
  {
   "cell_type": "markdown",
   "id": "91165e94",
   "metadata": {},
   "source": [
    "AP scores are quite low. This is expected for a highly imbalanced dataset, even after undersampling, the models still struggle to rank the positive class correctly. Also, the models only saw a subset of majority-class data during training.\n",
    "That’s why AP is low on the full dataset."
   ]
  }
 ],
 "metadata": {
  "kernelspec": {
   "display_name": "venv",
   "language": "python",
   "name": "python3"
  },
  "language_info": {
   "codemirror_mode": {
    "name": "ipython",
    "version": 3
   },
   "file_extension": ".py",
   "mimetype": "text/x-python",
   "name": "python",
   "nbconvert_exporter": "python",
   "pygments_lexer": "ipython3",
   "version": "3.10.0"
  }
 },
 "nbformat": 4,
 "nbformat_minor": 5
}
